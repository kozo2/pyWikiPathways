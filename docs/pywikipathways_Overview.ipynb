{
  "nbformat": 4,
  "nbformat_minor": 0,
  "metadata": {
    "colab": {
      "name": "pywikipathways-Overview",
      "private_outputs": true,
      "provenance": [],
      "collapsed_sections": []
    },
    "kernelspec": {
      "name": "python3",
      "display_name": "Python 3"
    },
    "language_info": {
      "name": "python"
    }
  },
  "cells": [
    {
      "cell_type": "markdown",
      "metadata": {
        "id": "7gJOUxL2Bqhk"
      },
      "source": [
        "# Overview\n",
        "**by Kozo Nishida and Alexander Pico**\n",
        "\n",
        "**pywikipathways 0.0.1**\n",
        "\n",
        "*WikiPathways* is a well-known repository for biological pathways that provides unique tools to the research community for content creation, editing and utilization.\n",
        "\n",
        "**Python** is a powerful programming language and environment for statistical and exploratory data analysis.\n",
        "\n",
        "*pywikipathways* leverages the WikiPathways API to communicate between **Python** and WikiPathways, allowing any pathway to be queried, interrogated and downloaded in both data and image formats. Queries are typically performed based on “Xrefs”, standardized identifiers for genes, proteins and metabolites. Once you can identified a pathway, you can use the WPID (WikiPathways identifier) to make additional queries.\n",
        "\n",
        "## Prerequisites\n",
        "All you need is this pywikipathways package!\n",
        "To install pywikipathways, run `pip install pywikipathways`: or "
      ]
    },
    {
      "cell_type": "code",
      "metadata": {
        "id": "8DBFXslKa80v"
      },
      "source": [
        "!pip install \"git+https://github.com/kozo2/pywikipathways.git@devel\""
      ],
      "execution_count": null,
      "outputs": []
    },
    {
      "cell_type": "markdown",
      "metadata": {
        "id": "ldQX1B-YC8E8"
      },
      "source": [
        "## Getting started\n",
        "Lets first get oriented with what WikiPathways contains. For example, here’s how you check to see which species are currently supported by WikiPathways:"
      ]
    },
    {
      "cell_type": "code",
      "metadata": {
        "id": "Qd_9CKFubDWI"
      },
      "source": [
        "import pywikipathways as pwpw"
      ],
      "execution_count": null,
      "outputs": []
    },
    {
      "cell_type": "code",
      "metadata": {
        "id": "CCrccZGTbJEr"
      },
      "source": [
        "pwpw.list_organisms()"
      ],
      "execution_count": null,
      "outputs": []
    },
    {
      "cell_type": "markdown",
      "metadata": {
        "id": "n9cznBF5DGil"
      },
      "source": [
        "You should see 30 or more species listed. This list is useful for subsequent queries that take an organism argument, to avoid misspelling.\n",
        "\n",
        "Next, let’s see how many pathways are available for Human:"
      ]
    },
    {
      "cell_type": "code",
      "metadata": {
        "id": "5vVJAMrCDMs4"
      },
      "source": [
        "hs_pathways = pwpw.list_pathways('Homo sapiens')"
      ],
      "execution_count": null,
      "outputs": []
    },
    {
      "cell_type": "code",
      "metadata": {
        "id": "KZb5zLfHDTuA"
      },
      "source": [
        "hs_pathways"
      ],
      "execution_count": null,
      "outputs": []
    },
    {
      "cell_type": "markdown",
      "metadata": {
        "id": "KFl0WBXGDvzQ"
      },
      "source": [
        "Yikes! That is a lot of information."
      ]
    },
    {
      "cell_type": "code",
      "metadata": {
        "id": "TM2nCqiYD9Y6"
      },
      "source": [
        "tnf_pathways = pwpw.find_pathways_by_xref('TNF','H')"
      ],
      "execution_count": null,
      "outputs": []
    },
    {
      "cell_type": "code",
      "metadata": {
        "id": "lElpOozlEFEz"
      },
      "source": [
        "tnf_pathways"
      ],
      "execution_count": null,
      "outputs": []
    },
    {
      "cell_type": "markdown",
      "metadata": {
        "id": "L73gzvkZEVhx"
      },
      "source": [
        "Ack! That’s a lot of information. We provide not only the pathway information, but also the search result score in case you want to rank results, etc. Again, if all you’re interested in is WPIDs, names or URLs, then there are these handy alternatives that will just return simple lists:"
      ]
    },
    {
      "cell_type": "code",
      "metadata": {
        "id": "Yl_13aW8Dic9"
      },
      "source": [
        "?pwpw.list_pathways"
      ],
      "execution_count": null,
      "outputs": []
    },
    {
      "cell_type": "markdown",
      "metadata": {
        "id": "ldozfBTpEkpU"
      },
      "source": [
        "## My favorite pathways\n",
        "At this point, we should have one or more pathways identified from the queries above. Let’s assume we identified ‘WP554’, the Ace Inhibitor Pathway (https://wikipathways.org/instance/WP554). We will use its WPID (WP554) in subsequent queries.\n",
        "\n",
        "First off, we can get information about the pathway (if we didn’t already collect it above):"
      ]
    },
    {
      "cell_type": "code",
      "metadata": {
        "id": "1LgCbfyREm0k"
      },
      "source": [
        "pwpw.get_pathway_info('WP554')"
      ],
      "execution_count": null,
      "outputs": []
    },
    {
      "cell_type": "markdown",
      "metadata": {
        "id": "g4mR-2DrE1i4"
      },
      "source": [
        "Next, we can get all the Xrefs contained in the pathway, mapped to a datasource of our choice. How convenient! We use the same system codes as described above. So, for example, if we want all the genes listed as Entrez Genes from this pathway:"
      ]
    },
    {
      "cell_type": "code",
      "metadata": {
        "id": "dvRV2-3gEmxZ"
      },
      "source": [
        "pwpw.get_xref_list('WP554','L')"
      ],
      "execution_count": null,
      "outputs": []
    },
    {
      "cell_type": "markdown",
      "metadata": {
        "id": "lwcDzKcEFCI2"
      },
      "source": [
        "Alternatively, if we want them listed as Ensembl IDs instead, then…"
      ]
    },
    {
      "cell_type": "code",
      "metadata": {
        "id": "AVnWpFQsEms0"
      },
      "source": [
        "pwpw.get_xref_list('WP554', 'En')"
      ],
      "execution_count": null,
      "outputs": []
    },
    {
      "cell_type": "markdown",
      "metadata": {
        "id": "EboEUtoIFKvK"
      },
      "source": [
        "And, if we want the metabolites, drugs and other small molecules associated with the pathways, then we’d simply provide the system code of a chemical database, e.g., Ch (HMBD), Ce (ChEBI) or Cs (Chemspider):"
      ]
    },
    {
      "cell_type": "code",
      "metadata": {
        "id": "6WPfvXOEEmjv"
      },
      "source": [
        "pwpw.get_xref_list('WP554', 'Ch')"
      ],
      "execution_count": null,
      "outputs": []
    },
    {
      "cell_type": "code",
      "metadata": {
        "id": "bJ0JW2AEFUw3"
      },
      "source": [
        "pwpw.get_xref_list('WP554', 'Ce')"
      ],
      "execution_count": null,
      "outputs": []
    },
    {
      "cell_type": "code",
      "metadata": {
        "id": "qyBJrO-yFUgo"
      },
      "source": [
        "pwpw.get_xref_list('WP554', 'Cs')"
      ],
      "execution_count": null,
      "outputs": []
    },
    {
      "cell_type": "markdown",
      "metadata": {
        "id": "D24n2es3FVsj"
      },
      "source": [
        "It’s that easy!\n",
        "\n",
        "## References\n",
        "1. Pico AR, Kelder T, Iersel MP van, Hanspers K, Conklin BR, Evelo C: WikiPathways: Pathway editing for the people. PLoS Biol 2008, 6:e184+.\n",
        "\n",
        "2. Iersel M van, Pico A, Kelder T, Gao J, Ho I, Hanspers K, Conklin B, Evelo C: The BridgeDb framework: Standardized access to gene, protein and metabolite identifier mapping services. BMC Bioinformatics 2010, 11:5+.\n"
      ]
    }
  ]
}